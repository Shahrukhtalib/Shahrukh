{
 "cells": [
  {
   "cell_type": "code",
   "execution_count": 9,
   "metadata": {},
   "outputs": [
    {
     "name": "stdout",
     "output_type": "stream",
     "text": [
      "Function 1  'Returns absolute value of a function abs()'\n",
      "Enter any integer-4\n",
      "Your given number is Negative integer\n"
     ]
    }
   ],
   "source": [
    "print(\"Function 1  'Returns absolute value of a function abs()'\")\n",
    "num1= input(\"Enter any integer\")\n",
    "if(int(num1) > 0):\n",
    "    print(\"Your given number is Positive integer \".format(abs(int(num1))))\n",
    "elif(int(num1) < 0):\n",
    "    print(\"Your given number is Negative integer\".format(abs(int(num1))))\n",
    "else:\n",
    "    print(\"Your number is not a integer\")"
   ]
  },
  {
   "cell_type": "code",
   "execution_count": 11,
   "metadata": {},
   "outputs": [
    {
     "name": "stdout",
     "output_type": "stream",
     "text": [
      "Function 2 'bytes()'\n",
      "b'\\x00\\x00\\x00\\x00'\n"
     ]
    }
   ],
   "source": [
    "print(\"Function 2 'bytes()'\")\n",
    "x =bytes(4)\n",
    "print (x)"
   ]
  },
  {
   "cell_type": "code",
   "execution_count": 18,
   "metadata": {},
   "outputs": [
    {
     "name": "stdout",
     "output_type": "stream",
     "text": [
      "Function 3 'chr()'\n",
      "('x', 'y', 'z')\n"
     ]
    }
   ],
   "source": [
    "print(\"Function 3 'chr()'\")\n",
    "x = chr(120),chr(121),chr(122)\n",
    "print(x)"
   ]
  },
  {
   "cell_type": "code",
   "execution_count": 32,
   "metadata": {},
   "outputs": [
    {
     "name": "stdout",
     "output_type": "stream",
     "text": [
      "Function 4 'complex()'\n",
      "(69+9j)\n"
     ]
    }
   ],
   "source": [
    "print(\"Function 4 'complex()'\")\n",
    "\n",
    "x = complex(69, 9)\n",
    "print(x)"
   ]
  },
  {
   "cell_type": "code",
   "execution_count": 36,
   "metadata": {},
   "outputs": [
    {
     "name": "stdout",
     "output_type": "stream",
     "text": [
      "Function 5 'dict()'\n",
      "{'name': 'Shahrukh', 'age': 22, 'Nationality': 'Pakistan'}\n"
     ]
    }
   ],
   "source": [
    "print(\"Function 5 'dict()'\")\n",
    "x=dict(name= \"Shahrukh\" , age=22, Nationality = \"Pakistan\"  )\n",
    "print(x)"
   ]
  }
 ],
 "metadata": {
  "kernelspec": {
   "display_name": "Python 3",
   "language": "python",
   "name": "python3"
  },
  "language_info": {
   "codemirror_mode": {
    "name": "ipython",
    "version": 3
   },
   "file_extension": ".py",
   "mimetype": "text/x-python",
   "name": "python",
   "nbconvert_exporter": "python",
   "pygments_lexer": "ipython3",
   "version": "3.7.4"
  }
 },
 "nbformat": 4,
 "nbformat_minor": 2
}
