{
 "cells": [
  {
   "cell_type": "code",
   "execution_count": null,
   "metadata": {},
   "outputs": [],
   "source": [
    "name=input(\"Enter your name\")\n",
    "classname = input(\"Enter your Class\")\n",
    "phy = input(\"Enter physics marks\")\n",
    "che = input(\"Enter chemistry marks\")\n",
    "mat = input(\"Enter maths marks\")\n",
    "eng = input(\"Enter english marks\")\n",
    "urd = input(\"Enter urdu marks\")\n",
    "pkstd=input(\"Enter Pak studies marks\")\n",
    "tot = int(maths) + int(phy) + int(che) + int(mat) + int(eng) + int(urd) + int(pkstd)\n",
    "per = (tot/500)*100\n",
    "Remarks = \"\"\"\n",
    "Student's name     : {}\n",
    "Class              : {}\n",
    "Physics marks      : {}\n",
    "Chemistry marks    : {}\n",
    "Maths marks        : {}\n",
    "English marks      : {}\n",
    "Urdu marks         : {}\n",
    "Pakstudies marks   : {}\n",
    "Total marks        : 500\n",
    "Obtained marks     : {}\n",
    "Percentage         : {}\n",
    "\"\"\"\n",
    "print(msg.format(name,classname,phy,che,mat,eng,urd,pkstd,tot,per))"
   ]
  }
 ],
 "metadata": {
  "kernelspec": {
   "display_name": "Python 3",
   "language": "python",
   "name": "python3"
  },
  "language_info": {
   "codemirror_mode": {
    "name": "ipython",
    "version": 3
   },
   "file_extension": ".py",
   "mimetype": "text/x-python",
   "name": "python",
   "nbconvert_exporter": "python",
   "pygments_lexer": "ipython3",
   "version": "3.7.4"
  }
 },
 "nbformat": 4,
 "nbformat_minor": 2
}
