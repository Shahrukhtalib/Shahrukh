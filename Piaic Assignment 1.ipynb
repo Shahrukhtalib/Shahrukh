{
 "cells": [
  {
   "cell_type": "markdown",
   "metadata": {},
   "source": [
    "##*PIAIC BATCH 3*"
   ]
  },
  {
   "cell_type": "code",
   "execution_count": 1,
   "metadata": {},
   "outputs": [
    {
     "name": "stdout",
     "output_type": "stream",
     "text": [
      "Enter your nameShahrukh Talib\n",
      "Enter your Class2nd Year\n",
      "Enter physics marks80\n",
      "Enter chemistry marks70\n",
      "Enter maths marks90\n",
      "Enter english marks70\n",
      "Enter urdu marks70\n",
      "Enter Pak studies marks45\n",
      "\n",
      "Student's name     :  Shahrukh Talib\n",
      "Class              :  2nd Year\n",
      "Physics marks      :  80\n",
      "Chemistry marks    :  70\n",
      "Maths marks        :  90\n",
      "English marks      :  70\n",
      "Urdu marks         :  70\n",
      "Pakstudies marks   :  45\n",
      "Total marks        :  500\n",
      "Obtained marks     :  425\n",
      "Percentage         :  85.0\n",
      "\n"
     ]
    }
   ],
   "source": [
    "name=input(\"Enter your name\")\n",
    "classname = input(\"Enter your Class\")\n",
    "phy = input(\"Enter physics marks\")\n",
    "che = input(\"Enter chemistry marks\")\n",
    "mat = input(\"Enter maths marks\")\n",
    "eng = input(\"Enter english marks\")\n",
    "urd = input(\"Enter urdu marks\")\n",
    "pkstd=input(\"Enter Pak studies marks\")\n",
    "tot = int(phy) + int(che) + int(mat) + int(eng) + int(urd) + int(pkstd)\n",
    "per = (tot/500)*100\n",
    "msg = \"\"\"\n",
    "Student's name     :  {}\n",
    "Class              :  {}\n",
    "Physics marks      :  {}\n",
    "Chemistry marks    :  {}\n",
    "Maths marks        :  {}\n",
    "English marks      :  {}\n",
    "Urdu marks         :  {}\n",
    "Pakstudies marks   :  {}\n",
    "Total marks        :  500\n",
    "Obtained marks     :  {}\n",
    "Percentage         :  {}\n",
    "\"\"\"\n",
    "print(msg.format(name,classname,phy,che,mat,eng,urd,pkstd,tot,per))"
   ]
  },
  {
   "cell_type": "code",
   "execution_count": null,
   "metadata": {},
   "outputs": [],
   "source": []
  }
 ],
 "metadata": {
  "kernelspec": {
   "display_name": "Python 3",
   "language": "python",
   "name": "python3"
  },
  "language_info": {
   "codemirror_mode": {
    "name": "ipython",
    "version": 3
   },
   "file_extension": ".py",
   "mimetype": "text/x-python",
   "name": "python",
   "nbconvert_exporter": "python",
   "pygments_lexer": "ipython3",
   "version": "3.7.4"
  }
 },
 "nbformat": 4,
 "nbformat_minor": 2
}
